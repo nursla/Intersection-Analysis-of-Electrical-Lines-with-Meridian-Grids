{
 "cells": [
  {
   "cell_type": "code",
   "execution_count": 31,
   "id": "b637a187-bb5d-46f6-8f06-c21b628d568c",
   "metadata": {},
   "outputs": [
    {
     "name": "stdout",
     "output_type": "stream",
     "text": [
      "Meridian 27 için kesişim sonuçları kaydedildi.\n",
      "Meridian 30 için kesişim sonuçları kaydedildi.\n",
      "Meridian 33 için kesişim sonuçları kaydedildi.\n",
      "Meridian 36 için kesişim sonuçları kaydedildi.\n",
      "Meridian 39 için kesişim sonuçları kaydedildi.\n",
      "Meridian 42 için kesişim sonuçları kaydedildi.\n",
      "Meridian 45 için kesişim sonuçları kaydedildi.\n",
      "Tüm kesişimler tek bir Excel dosyasına toplandı.\n"
     ]
    }
   ],
   "source": [
    "#NURSILAÖZKAN\n",
    "#25/07/2024\n",
    "\n",
    "\n",
    "import geopandas as gpd\n",
    "import pandas as pd\n",
    "import os\n",
    "\n",
    "electric_lines_path = r'C:\\Users\\zag7ols\\Desktop\\teiaş hatlar'\n",
    "paftalar_path = r'C:\\Users\\zag7ols\\Desktop\\TM'\n",
    "output_path = r'C:\\Users\\zag7ols\\Desktop\\electric_lines_projected.xlsx'\n",
    "\n",
    "electric_lines_files = [os.path.join(electric_lines_path, f) for f in os.listdir(electric_lines_path) if f.endswith('.shp')]\n",
    "\n",
    "paftalar_files = [os.path.join(paftalar_path, f) for f in os.listdir(paftalar_path) if f.endswith('.shp')]\n",
    "\n",
    "electric_lines = gpd.read_file(electric_lines_files[0])\n",
    "\n",
    "meridians = [27, 30, 33, 36, 39, 42, 45]\n",
    "\n",
    "column_order = [\n",
    "    'ID', 'hatadi', 'AsamaID', 'hat_id', 'DOM', 'bolge', 'hatno', 'hattip_id', \n",
    "    'hatozel_id', 'ikzkure_id', 'teskur_id', 'gunceltar', 'rapkur_id', 'altkur_id', \n",
    "    'aciklama', 'gerilim', 'kayityap', 'editleyen', 'kayittar', 'edittar', 'uzunluk', \n",
    "    'domproj', 'hattip', 'BolgeMudur', 'hatozel', 'ikzkure', 'teskur', 'rapkur', \n",
    "    'altkur', 'ProjeID', 'elektrikHa', 'elektrikLi', 'sebekeTipi', 'isletmeGer', \n",
    "    'azamiGeril', 'NAME', 'LAYER', 'MAP_NAME', 'PERIMETER', 'ENCLOSED_A', 'LENGTH', \n",
    "    'WIDTH', 'geometry'\n",
    "]\n",
    "\n",
    "with pd.ExcelWriter(output_path) as writer:\n",
    "    for meridian in meridians:\n",
    "        \n",
    "        pafta_file = [f for f in paftalar_files if f'_{meridian}' in f]\n",
    "        if not pafta_file:\n",
    "            print(f\"Meridian {meridian} için pafta bulunamadı.\")\n",
    "            continue\n",
    "\n",
    "        paftalar = gpd.read_file(pafta_file[0])\n",
    "\n",
    "        if electric_lines.crs != paftalar.crs:\n",
    "            electric_lines = electric_lines.to_crs(paftalar.crs)\n",
    "\n",
    "        intersected = gpd.overlay(electric_lines, paftalar, how='intersection')\n",
    "\n",
    "        intersected = intersected.reindex(columns=column_order)\n",
    "\n",
    "        # Sonuçları Excel'e yaz\n",
    "        intersected.to_excel(writer, sheet_name=f'Meridian_{meridian}', index=False)\n",
    "\n",
    "        print(f\"Meridian {meridian} için kesişim sonuçları kaydedildi.\")\n",
    "\n",
    "print(\"Tüm kesişimler tek bir Excel dosyasına toplandı.\")\n",
    "\n",
    "\n",
    "#NURSILAÖZKAN\n",
    "#25/07/2024\n"
   ]
  },
  {
   "cell_type": "code",
   "execution_count": null,
   "id": "dda9d31b-0d2d-4796-8fae-c12a23081edd",
   "metadata": {},
   "outputs": [],
   "source": []
  }
 ],
 "metadata": {
  "kernelspec": {
   "display_name": "Python 3 (ipykernel)",
   "language": "python",
   "name": "python3"
  },
  "language_info": {
   "codemirror_mode": {
    "name": "ipython",
    "version": 3
   },
   "file_extension": ".py",
   "mimetype": "text/x-python",
   "name": "python",
   "nbconvert_exporter": "python",
   "pygments_lexer": "ipython3",
   "version": "3.12.4"
  }
 },
 "nbformat": 4,
 "nbformat_minor": 5
}
